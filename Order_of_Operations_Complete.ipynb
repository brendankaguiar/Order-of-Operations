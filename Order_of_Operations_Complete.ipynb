{
  "nbformat": 4,
  "nbformat_minor": 0,
  "metadata": {
    "colab": {
      "name": "Order of Operations Complete",
      "provenance": [],
      "collapsed_sections": []
    },
    "kernelspec": {
      "name": "python3",
      "display_name": "Python 3"
    }
  },
  "cells": [
    {
      "cell_type": "markdown",
      "metadata": {
        "id": "msVILuoszY94"
      },
      "source": [
        "When it comes to programming, there are many different way to solve a given problem. For instance, if we wanted to compute a math problem considering order of operations, we could write code like in test 1 below."
      ]
    },
    {
      "cell_type": "code",
      "metadata": {
        "colab": {
          "base_uri": "https://localhost:8080/"
        },
        "id": "HH9o6zMwzynb",
        "outputId": "c34a5510-f796-4c2b-adff-44d8b1a33025"
      },
      "source": [
        "#test 1\r\n",
        "value1 = ((4 + 6)*2) / (2 + (9-3))\r\n",
        "print(value1, \" is the result.\")\r\n",
        "#end test 1"
      ],
      "execution_count": null,
      "outputs": [
        {
          "output_type": "stream",
          "text": [
            "2.5  is the result.\n"
          ],
          "name": "stdout"
        }
      ]
    },
    {
      "cell_type": "markdown",
      "metadata": {
        "id": "xvh1BmTzxQk9"
      },
      "source": [
        "The above code may be a solution, but it lacks the functionality of letting the user decide the math problem to compute. Let us attempt to print the result from user input in test 2"
      ]
    },
    {
      "cell_type": "code",
      "metadata": {
        "colab": {
          "base_uri": "https://localhost:8080/"
        },
        "id": "eMD-5iIFf5j0",
        "outputId": "3adc611a-2281-4f6d-e3a0-d25756175944"
      },
      "source": [
        "#test 2\r\n",
        "value2 = input(\"Give me an expression to evaluate : \")\r\n",
        "print(value2, \" is the result.\")"
      ],
      "execution_count": null,
      "outputs": [
        {
          "output_type": "stream",
          "text": [
            "Give me an expression to evaluate : 45+\n",
            "45+  is the result.\n"
          ],
          "name": "stdout"
        }
      ]
    },
    {
      "cell_type": "markdown",
      "metadata": {
        "id": "dmqNtRoFgrIy"
      },
      "source": [
        "So much for an interpretive language. Instead, we're going to solve this problem using data structures."
      ]
    },
    {
      "cell_type": "markdown",
      "metadata": {
        "id": "8wuVxAUF0ZA4"
      },
      "source": [
        "The following class is a Node."
      ]
    },
    {
      "cell_type": "code",
      "metadata": {
        "id": "6z2TJzxLxVBD"
      },
      "source": [
        "#Creates a Node\r\n",
        "class Node:\r\n",
        "    def __init__(self,data):                \r\n",
        "        self.data=data                      \r\n",
        "        self.next=None     \r\n",
        "#end Node"
      ],
      "execution_count": null,
      "outputs": []
    },
    {
      "cell_type": "markdown",
      "metadata": {
        "id": "eKCmoGIPxZGR"
      },
      "source": [
        "Nodes are elements of data usually contained within data structures. The following data structure is a stack. "
      ]
    },
    {
      "cell_type": "code",
      "metadata": {
        "id": "EhLzobNoxjrI"
      },
      "source": [
        "#Creates a Stack that has a Node as data        \r\n",
        "class Stack:\r\n",
        "    #Constructor\r\n",
        "    def __init__(self):\r\n",
        "        self.head=None                 #points head to top of stack\r\n",
        "    #end Constructor\r\n",
        "\r\n",
        "    #Assigns head to the new node\r\n",
        "    def push(self,newNode):\r\n",
        "        nextNode = newNode             #creates next node with passed in data\r\n",
        "        nextNode.next = self.head      #links the node to Stack through the head\r\n",
        "        self.head = nextNode           #assigns head to new top of stack\r\n",
        "    #end push\r\n",
        " \r\n",
        "    #Checks if stack is empty\r\n",
        "    def isEmpty(self):\r\n",
        "        if self.head is None :\r\n",
        "          return True\r\n",
        "        else :\r\n",
        "          return False\r\n",
        "    #Returns value at top of stack\r\n",
        "    def peek(self):\r\n",
        "      value = self.head.data\r\n",
        "      return value\r\n",
        "    #end isEmpty\r\n",
        "\r\n",
        "    #Removes top of stack, assigns head to next node,and returns deleted value\r\n",
        "    def pop(self):\r\n",
        "        nodeToDelete = self.head      #assigns node to be deleted from head\r\n",
        "        self.head = self.head.next    #shift head to the next available node\r\n",
        "        value = nodeToDelete.data\r\n",
        "        nodeToDelete.next = None      #deletes next data of node to delete\r\n",
        "        nodeToDelete = None           #deletes node\r\n",
        "        return value                  #returns value of deleted node if assigned\r\n",
        "  #end pop\r\n",
        "#end Stack"
      ],
      "execution_count": null,
      "outputs": []
    },
    {
      "cell_type": "markdown",
      "metadata": {
        "id": "lwgmd1H6xp9u"
      },
      "source": [
        "We can use structures like the stack in many useful ways. Below is an example of a stack being used to evaluate an expression in postfix form. (e.g. 45+)"
      ]
    },
    {
      "cell_type": "code",
      "metadata": {
        "id": "JXbChEeRm9w1"
      },
      "source": [
        "def evaluatePostfix(postfix):\r\n",
        "  OperandStack = Stack()\r\n",
        "  while postfix:                        #while string is not empty\r\n",
        "    nextChar = postfix[0]               #assign first number in string to nextChar\r\n",
        "    postfix = postfix[1:]               #removes number processed by nextChar\r\n",
        "    #switch\r\n",
        "    if nextChar == '+':\r\n",
        "      rhs = OperandStack.pop()          #pops rhs operand\r\n",
        "      lhs = OperandStack.pop()          #pops lhs operand\r\n",
        "      addNode = Node(float(lhs) + float(rhs))\r\n",
        "      OperandStack.push(addNode)        #inserts node as new operand\r\n",
        "    elif nextChar == '-':\r\n",
        "      rhs = OperandStack.pop()          \r\n",
        "      lhs = OperandStack.pop()          \r\n",
        "      subNode = Node(float(lhs) - float(rhs) )\r\n",
        "      OperandStack.push(subNode)        #subtraction node as new operand\r\n",
        "    elif nextChar == '*':\r\n",
        "      rhs = OperandStack.pop()\r\n",
        "      lhs = OperandStack.pop()           \r\n",
        "      mulNode = Node(float(lhs) * float(rhs))\r\n",
        "      OperandStack.push(mulNode)        #multiplication node as new operand\r\n",
        "    elif nextChar == '/':\r\n",
        "      rhs = OperandStack.pop()\r\n",
        "      lhs = OperandStack.pop()          \r\n",
        "      divNode = Node(float(lhs) / float(rhs))\r\n",
        "      OperandStack.push(divNode)        #division node as new operand\r\n",
        "    elif nextChar == '^':\r\n",
        "      rhs = OperandStack.pop()\r\n",
        "      lhs = OperandStack.pop()          \r\n",
        "      expNode = Node(float(lhs) ** float(rhs))\r\n",
        "      OperandStack.push(expNode)        #exponent node as new operand  \r\n",
        "    else :\r\n",
        "      numNode = Node(nextChar)\r\n",
        "      OperandStack.push(numNode)\r\n",
        "    #end switch\r\n",
        "  #end while\r\n",
        "  return OperandStack.pop()            #pops top node, which is result\r\n",
        "#end evaluatePostfix"
      ],
      "execution_count": null,
      "outputs": []
    },
    {
      "cell_type": "markdown",
      "metadata": {
        "id": "N9XFguYtnwNy"
      },
      "source": [
        "Test 3 below uses the function we just implemented to evaluate the postfix expression passed in by the user."
      ]
    },
    {
      "cell_type": "code",
      "metadata": {
        "colab": {
          "base_uri": "https://localhost:8080/"
        },
        "id": "d9SMVEJ7x0Cs",
        "outputId": "d0b4af0f-bde1-405c-99b9-9877d3b0ca61"
      },
      "source": [
        "       \r\n",
        "#test 3\r\n",
        "postfix = input(\"Give me a postfix expression to evaluate : \")\r\n",
        "value3 = evaluatePostfix(postfix)\r\n",
        "print(value3, \"is the result.\")\r\n",
        "#end test 3"
      ],
      "execution_count": null,
      "outputs": [
        {
          "output_type": "stream",
          "text": [
            "Give me a postfix expression to evaluate : 45+\n",
            "9.0 is the result.\n"
          ],
          "name": "stdout"
        }
      ]
    },
    {
      "cell_type": "markdown",
      "metadata": {
        "id": "3AZYihHu1EDC"
      },
      "source": [
        "This solution still isn't optimal. If we want the user to define the expression as done normally through infix, delimited expressions, we need to add functionality and move more data around. First let's program a couple functions to help check for delimiters."
      ]
    },
    {
      "cell_type": "code",
      "metadata": {
        "id": "t265Hqpj3w03"
      },
      "source": [
        "#Function helper that checks delimiter pairing\r\n",
        "def isPaired(open, close):\r\n",
        "  #returns True if paired\r\n",
        "  return open == '(' and close == ')'\r\n",
        "#end isPaired\r\n",
        "\r\n",
        "#Checks if delimiters are balanced\r\n",
        "def delimitersOk(expression):\r\n",
        "  #function variables      \r\n",
        "  inputline = expression\r\n",
        "  DelimiterStack = Stack()\r\n",
        "  index = 0\r\n",
        "  isBalanced = True\r\n",
        "  characterCount = len(inputline)\r\n",
        "  while isBalanced and (index < characterCount) : #stay in loop 'til unbalanced\r\n",
        "                                                  #or expression traversed\r\n",
        "    nextCharacter = inputline[index]\r\n",
        "    if nextCharacter == '(' :\r\n",
        "      delimNode = Node(nextCharacter)\r\n",
        "      DelimiterStack.push(delimNode)              #push character if delimiter\r\n",
        "    elif nextCharacter == ')' :\r\n",
        "      if DelimiterStack.isEmpty() :\r\n",
        "        isBalanced = False                        #unbalanced if stack is empty\r\n",
        "      else :\r\n",
        "        openDelimiter = DelimiterStack.pop()      #pop delimiter\r\n",
        "        isBalanced = isPaired(openDelimiter, nextCharacter)\r\n",
        "      #end if\r\n",
        "    else :\r\n",
        "      pass\r\n",
        "    #end if\r\n",
        "    index += 1\r\n",
        "  #end while\r\n",
        "  if DelimiterStack.isEmpty() == False :\r\n",
        "    isBalanced = False\r\n",
        "  return isBalanced\r\n",
        "#end delimitersOk"
      ],
      "execution_count": null,
      "outputs": []
    },
    {
      "cell_type": "markdown",
      "metadata": {
        "id": "I0099i8R7vOv"
      },
      "source": [
        "Let's do a sanity check to see that the function is working properly."
      ]
    },
    {
      "cell_type": "code",
      "metadata": {
        "colab": {
          "base_uri": "https://localhost:8080/"
        },
        "id": "4J9vpkCt70Ox",
        "outputId": "99934274-138e-4262-faf9-ba6a35026481"
      },
      "source": [
        "validExp = \"((4 + 6)*2) / (2 + (9-3))\"\r\n",
        "invalidExp = \"((4 + 6)*2) / (2 + (9-3)\"\r\n",
        "if delimitersOk(validExp) == True :\r\n",
        "  print(\"((4 + 6)*2) / (2 + (9-3)) is valid.\")\r\n",
        "if delimitersOk(invalidExp) == False :\r\n",
        "  print(\"((4 + 6)*2) / (2 + (9-3) is invalid.\")\r\n"
      ],
      "execution_count": null,
      "outputs": [
        {
          "output_type": "stream",
          "text": [
            "((4 + 6)*2) / (2 + (9-3)) is valid.\n",
            "((4 + 6)*2) / (2 + (9-3) is invalid.\n"
          ],
          "name": "stdout"
        }
      ]
    },
    {
      "cell_type": "markdown",
      "metadata": {
        "id": "oToNDrwSjiYC"
      },
      "source": [
        "Now, we need to parse our information, and we are set to allow user input for math problems requiring order of operations."
      ]
    },
    {
      "cell_type": "code",
      "metadata": {
        "id": "BNITL7flXAVJ"
      },
      "source": [
        "def process(nextChar, postfix, OperatorStack):\r\n",
        "  #switch\r\n",
        "  if ord(nextChar) > 47 and ord(nextChar) < 58 :  #if next character is operand\r\n",
        "      postfix = postfix + nextChar\r\n",
        "  elif nextChar == '^' :\r\n",
        "    expNode = Node(nextChar)\r\n",
        "    OperatorStack.push(expNode)\r\n",
        "  elif nextChar == '(' :\r\n",
        "    delimNode = Node(nextChar)\r\n",
        "    OperatorStack.push(delimNode)\r\n",
        "  elif nextChar == ')' :\r\n",
        "    topOperator = OperatorStack.pop()\r\n",
        "    while topOperator != '(' :\r\n",
        "      postfix = postfix + topOperator\r\n",
        "      topOperator = OperatorStack.pop()\r\n",
        "    #end while\r\n",
        "  elif nextChar == '+' or nextChar == \"-\" or nextChar == \"*\" or nextChar == \"/\" :\r\n",
        "      while OperatorStack.isEmpty() == False and nextChar <= OperatorStack.peek() :\r\n",
        "        topOperator = OperatorStack.pop()\r\n",
        "        postfix = postfix + topOperator\r\n",
        "        topOperator = OperatorStack.pop()\r\n",
        "      #end while\r\n",
        "      opNode = Node(nextChar)\r\n",
        "      OperatorStack.push(opNode)\r\n",
        "  else :\r\n",
        "    pass\r\n",
        "  #end switch\r\n",
        "  return postfix\r\n",
        "#end process\r\n",
        "\r\n",
        "def toPostfix(infix):\r\n",
        "  index = 0\r\n",
        "  characterCount = len(infix)\r\n",
        "  OperatorStack = Stack()\r\n",
        "  postfix = \"\"\r\n",
        "  while index < characterCount :\r\n",
        "    nextChar = infix[index]\r\n",
        "    postfix = process(nextChar, postfix, OperatorStack)\r\n",
        "    index += 1\r\n",
        "  #end while\r\n",
        "  while OperatorStack.isEmpty() == False :\r\n",
        "    topOperator = OperatorStack.pop()\r\n",
        "    postfix = postfix + topOperator\r\n",
        "  #end while\r\n",
        "  return postfix\r\n",
        "#end toPostfix"
      ],
      "execution_count": null,
      "outputs": []
    },
    {
      "cell_type": "code",
      "metadata": {
        "colab": {
          "base_uri": "https://localhost:8080/"
        },
        "id": "0LPlqwz6XAZ8",
        "outputId": "9ae9d9ed-fcb0-4e95-e11e-2cdfbd9d7e67"
      },
      "source": [
        "#test 4\r\n",
        "expression = input(\"Enter a delimited expression 'i.e. (4 + 6) / (2 + 3)' to evaluate: \")\r\n",
        "valid = delimitersOk(expression)\r\n",
        "if valid :\r\n",
        "  postfix = toPostfix(expression)\r\n",
        "  value4 = evaluatePostfix(postfix)\r\n",
        "  print(value4, \"is the result.\")\r\n",
        "#end if\r\n",
        "#end test 4"
      ],
      "execution_count": null,
      "outputs": [
        {
          "output_type": "stream",
          "text": [
            "Enter a delimited expression 'i.e. (4 + 6) / (2 + 3)' to evaluate: 4+6/2+3\n",
            "462/3+ is the postfix form.\n",
            "6.0 is the result.\n"
          ],
          "name": "stdout"
        }
      ]
    },
    {
      "cell_type": "markdown",
      "metadata": {
        "id": "vsH7DiZvxe7N"
      },
      "source": [
        "There we have it! A python program that will attempt solve an order of opertations problem. Of course there are still bugs that causes errors for some inputs, but this is a good starting point to having a program that allows the user to input the math problem.\r\n"
      ]
    }
  ]
}